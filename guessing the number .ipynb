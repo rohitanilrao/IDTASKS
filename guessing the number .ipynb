{
 "cells": [
  {
   "cell_type": "code",
   "execution_count": 7,
   "id": "ae4942a4",
   "metadata": {},
   "outputs": [
    {
     "name": "stdout",
     "output_type": "stream",
     "text": [
      "enter a number5\n",
      "try again\n",
      "enter a number6\n",
      "congratulations you win\n"
     ]
    }
   ],
   "source": [
    "import random \n",
    "num=random.randint(1,10)\n",
    "\n",
    "for i in range(0,3):\n",
    "    guess=int(input(\"enter a number\"))\n",
    "    if guess==num:\n",
    "        print(\"congratulations you win\")\n",
    "        break\n",
    "    else:\n",
    "        print(\"try again\")\n"
   ]
  },
  {
   "cell_type": "code",
   "execution_count": null,
   "id": "a061bf46",
   "metadata": {},
   "outputs": [],
   "source": []
  },
  {
   "cell_type": "code",
   "execution_count": null,
   "id": "90efc36b",
   "metadata": {},
   "outputs": [],
   "source": []
  },
  {
   "cell_type": "markdown",
   "id": "54589f11",
   "metadata": {},
   "source": []
  },
  {
   "cell_type": "code",
   "execution_count": null,
   "id": "663c6ee5",
   "metadata": {},
   "outputs": [],
   "source": []
  }
 ],
 "metadata": {
  "kernelspec": {
   "display_name": "Python 3 (ipykernel)",
   "language": "python",
   "name": "python3"
  },
  "language_info": {
   "codemirror_mode": {
    "name": "ipython",
    "version": 3
   },
   "file_extension": ".py",
   "mimetype": "text/x-python",
   "name": "python",
   "nbconvert_exporter": "python",
   "pygments_lexer": "ipython3",
   "version": "3.9.13"
  }
 },
 "nbformat": 4,
 "nbformat_minor": 5
}
